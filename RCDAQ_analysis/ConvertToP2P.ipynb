{
 "cells": [
  {
   "cell_type": "code",
   "execution_count": 3,
   "id": "cfec957e",
   "metadata": {},
   "outputs": [
    {
     "name": "stdout",
     "output_type": "stream",
     "text": [
      "0%\n",
      "5%\n",
      "10%\n",
      "16%\n",
      "21%\n",
      "26%\n",
      "31%\n",
      "36%\n",
      "42%\n",
      "47%\n",
      "52%\n",
      "57%\n",
      "62%\n",
      "68%\n",
      "73%\n",
      "78%\n",
      "83%\n",
      "88%\n",
      "94%\n",
      "99%\n"
     ]
    }
   ],
   "source": [
    "filenumber = 961\n",
    "\n",
    "eventPath = 'Jun15Scan2.txt'\n",
    "\n",
    "with open(eventPath, 'a') as w:\n",
    "    w.write(\"\")\n",
    "    for i in range(0, filenumber):                             #iterate through files\n",
    "        w.write(\"Point\")\n",
    "        w.write('\\n');\n",
    "    \n",
    "        with open(\"../data/Jun15Scan2/\"+str(i + 1) + \".txt\") as f:\n",
    "            current_file = (f.read().split('-- Event'))\n",
    "    \n",
    "        for j in range(0, len(current_file)): \n",
    "            #iterate through events\n",
    "            lines = current_file[j].split('\\n')\n",
    "            maxvoltage = 0;\n",
    "            minvoltage = 0;\n",
    "            baseline = []\n",
    "            for line in lines[400:500]:\n",
    "                values = line.split()\n",
    "                baseline.append(float(values[3]))\n",
    "            if len(baseline) > 0:\n",
    "                base = sum(baseline) / len(baseline)\n",
    "            else:\n",
    "                base = 0\n",
    "            for line in lines[500:700]:\n",
    "                values = line.split()\n",
    "            \n",
    "                if float(values[3]) < minvoltage:              #get p2p values\n",
    "                    minvoltage = float(values[3])\n",
    "                #if float(values[3]) > maxvoltage:\n",
    "                    #maxvoltage = float(values[3])\n",
    "                maxvoltage = base\n",
    "            w.write(str(maxvoltage - minvoltage))\n",
    "            w.write('\\n')\n",
    "\n",
    "        if i%50 == 0:\n",
    "            print(str(round(100 * (i/filenumber)))+\"%\")"
   ]
  },
  {
   "cell_type": "code",
   "execution_count": null,
   "id": "7789a610",
   "metadata": {},
   "outputs": [],
   "source": []
  }
 ],
 "metadata": {
  "kernelspec": {
   "display_name": "Python 3 (ipykernel)",
   "language": "python",
   "name": "python3"
  },
  "language_info": {
   "codemirror_mode": {
    "name": "ipython",
    "version": 3
   },
   "file_extension": ".py",
   "mimetype": "text/x-python",
   "name": "python",
   "nbconvert_exporter": "python",
   "pygments_lexer": "ipython3",
   "version": "3.9.7"
  }
 },
 "nbformat": 4,
 "nbformat_minor": 5
}
