{
 "cells": [
  {
   "cell_type": "code",
   "execution_count": 3,
   "id": "e9356db7",
   "metadata": {},
   "outputs": [
    {
     "ename": "FileNotFoundError",
     "evalue": "[Errno 2] No such file or directory: '../data/Jun15Scan1/1.txt'",
     "output_type": "error",
     "traceback": [
      "\u001b[0;31m---------------------------------------------------------------------------\u001b[0m",
      "\u001b[0;31mFileNotFoundError\u001b[0m                         Traceback (most recent call last)",
      "Input \u001b[0;32mIn [3]\u001b[0m, in \u001b[0;36m<cell line: 5>\u001b[0;34m()\u001b[0m\n\u001b[1;32m      8\u001b[0m w\u001b[38;5;241m.\u001b[39mwrite(\u001b[38;5;124m\"\u001b[39m\u001b[38;5;124mPoint\u001b[39m\u001b[38;5;124m\"\u001b[39m)\n\u001b[1;32m      9\u001b[0m w\u001b[38;5;241m.\u001b[39mwrite(\u001b[38;5;124m'\u001b[39m\u001b[38;5;130;01m\\n\u001b[39;00m\u001b[38;5;124m'\u001b[39m);\n\u001b[0;32m---> 11\u001b[0m \u001b[38;5;28;01mwith\u001b[39;00m \u001b[38;5;28;43mopen\u001b[39;49m\u001b[43m(\u001b[49m\u001b[38;5;124;43m\"\u001b[39;49m\u001b[38;5;124;43m../data/Jun15Scan1/\u001b[39;49m\u001b[38;5;124;43m\"\u001b[39;49m\u001b[38;5;241;43m+\u001b[39;49m\u001b[38;5;28;43mstr\u001b[39;49m\u001b[43m(\u001b[49m\u001b[43mi\u001b[49m\u001b[43m \u001b[49m\u001b[38;5;241;43m+\u001b[39;49m\u001b[43m \u001b[49m\u001b[38;5;241;43m1\u001b[39;49m\u001b[43m)\u001b[49m\u001b[43m \u001b[49m\u001b[38;5;241;43m+\u001b[39;49m\u001b[43m \u001b[49m\u001b[38;5;124;43m\"\u001b[39;49m\u001b[38;5;124;43m.txt\u001b[39;49m\u001b[38;5;124;43m\"\u001b[39;49m\u001b[43m)\u001b[49m \u001b[38;5;28;01mas\u001b[39;00m f:\n\u001b[1;32m     12\u001b[0m     current_file \u001b[38;5;241m=\u001b[39m (f\u001b[38;5;241m.\u001b[39mread()\u001b[38;5;241m.\u001b[39msplit(\u001b[38;5;124m'\u001b[39m\u001b[38;5;124m-- Event\u001b[39m\u001b[38;5;124m'\u001b[39m))\n\u001b[1;32m     14\u001b[0m \u001b[38;5;28;01mfor\u001b[39;00m j \u001b[38;5;129;01min\u001b[39;00m \u001b[38;5;28mrange\u001b[39m(\u001b[38;5;241m0\u001b[39m, \u001b[38;5;28mlen\u001b[39m(current_file)): \n\u001b[1;32m     15\u001b[0m     \u001b[38;5;66;03m#iterate through events\u001b[39;00m\n",
      "\u001b[0;31mFileNotFoundError\u001b[0m: [Errno 2] No such file or directory: '../data/Jun15Scan1/1.txt'"
     ]
    }
   ],
   "source": [
    "filenumber = 961\n",
    "\n",
    "eventPath = 'Jun15Scan2.txt'\n",
    "\n",
    "with open(eventPath, 'a') as w:\n",
    "    w.write(\"\")\n",
    "    for i in range(0, filenumber):                             #iterate through files\n",
    "        w.write(\"Point\")\n",
    "        w.write('\\n');\n",
    "    \n",
    "        with open(\"../data/Jun15Scan1/\"+str(i + 1) + \".txt\") as f:\n",
    "            current_file = (f.read().split('-- Event'))\n",
    "    \n",
    "        for j in range(0, len(current_file)): \n",
    "            #iterate through events\n",
    "            lines = current_file[j].split('\\n')\n",
    "            maxvoltage = 0;\n",
    "            minvoltage = 0;\n",
    "            baseline = []\n",
    "            for line in lines[400:500]:\n",
    "                values = line.split()\n",
    "                baseline.append(float(values[3]))\n",
    "            if len(baseline) > 0:\n",
    "                base = sum(baseline) / len(baseline)\n",
    "            else:\n",
    "                base = 0\n",
    "            for line in lines[500:700]:\n",
    "                values = line.split()\n",
    "            \n",
    "                if float(values[3]) < minvoltage:              #get p2p values\n",
    "                    minvoltage = float(values[3])\n",
    "                #if float(values[3]) > maxvoltage:\n",
    "                    #maxvoltage = float(values[3])\n",
    "                maxvoltage = base\n",
    "            w.write(str(maxvoltage - minvoltage))\n",
    "            w.write('\\n')\n",
    "\n",
    "        if i%50 == 0:\n",
    "            print(str(round(100 * (i/filenumber)))+\"%\")"
   ]
  },
  {
   "cell_type": "code",
   "execution_count": null,
   "id": "5c6306c3",
   "metadata": {},
   "outputs": [],
   "source": []
  }
 ],
 "metadata": {
  "kernelspec": {
   "display_name": "Python 3 (ipykernel)",
   "language": "python",
   "name": "python3"
  },
  "language_info": {
   "codemirror_mode": {
    "name": "ipython",
    "version": 3
   },
   "file_extension": ".py",
   "mimetype": "text/x-python",
   "name": "python",
   "nbconvert_exporter": "python",
   "pygments_lexer": "ipython3",
   "version": "3.9.7"
  }
 },
 "nbformat": 4,
 "nbformat_minor": 5
}
