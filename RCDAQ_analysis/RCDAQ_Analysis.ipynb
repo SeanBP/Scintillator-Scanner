{
 "cells": [
  {
   "cell_type": "code",
   "execution_count": 4,
   "id": "b8c1f2c5",
   "metadata": {
    "scrolled": true
   },
   "outputs": [
    {
     "data": {
      "image/png": "[encoded data removed]",
      "text/plain": [
       "<Figure size 432x288 with 1 Axes>"
      ]
     },
     "metadata": {
      "needs_background": "light"
     },
     "output_type": "display_data"
    }
   ],
   "source": [
    "import matplotlib.pyplot as plt\n",
    "import pylab\n",
    "import numpy as np\n",
    "\n",
    "\n",
    "with open(\"../data/Jun14Scan/400.txt\") as f:\n",
    "    events = f.read().split('-- Event')\n",
    "\n",
    "\n",
    "lines = events[73].split('\\n')\n",
    "time = []\n",
    "voltage = []\n",
    "#6 - 1028\n",
    "for line in lines[6:1028]:\n",
    "        \n",
    "    values = line.split()\n",
    "    if float(values[3]) < 5:\n",
    "        time.append(float(values[2]))\n",
    "        voltage.append(float(values[3]))\n",
    "    \n",
    "plt.scatter(time,voltage,s=10)\n",
    "plt.xlabel('time (ns)')\n",
    "plt.ylabel('voltage (mV)')\n",
    "plt.show()"
   ]
  },
  {
   "cell_type": "code",
   "execution_count": 10,
   "id": "615ea059",
   "metadata": {
    "scrolled": false
   },
   "outputs": [
    {
     "data": {
      "image/png": "[encoded data removed]",
      "text/plain": [
       "<Figure size 432x288 with 1 Axes>"
      ]
     },
     "metadata": {
      "needs_background": "light"
     },
     "output_type": "display_data"
    },
    {
     "name": "stdout",
     "output_type": "stream",
     "text": [
      "Average:\n",
      "16.56383375\n",
      "4.535285273984806\n",
      "1000\n"
     ]
    }
   ],
   "source": [
    "import matplotlib.pyplot as plt\n",
    "import pylab\n",
    "import numpy as np\n",
    "\n",
    "with open(\"../data/Jun14Scan/3.txt\") as f:\n",
    "    events = f.read().split('-- Event')\n",
    "\n",
    "peaktopeak = []    \n",
    "    \n",
    "for event in events:\n",
    "    lines = event.split('\\n')\n",
    "    maxvoltage = -100000;\n",
    "    minvoltage = 100000;\n",
    "    baseline = []\n",
    "    for line in lines[400:500]:\n",
    "        values = line.split()\n",
    "        baseline.append(float(values[3]))\n",
    "\n",
    "    if len(baseline) > 0:\n",
    "        base = sum(baseline) / len(baseline)\n",
    "    else:\n",
    "        base = 0\n",
    "    for line in lines[500:600]:\n",
    "        \n",
    "        values = line.split()\n",
    "        if float(values[3]) < minvoltage:\n",
    "            minvoltage = float(values[3])\n",
    "        #if float(values[3]) > maxvoltage and float(values[3]) < 5:\n",
    "            #maxvoltage = float(values[3])\n",
    "    maxvoltage = base\n",
    "    if maxvoltage - minvoltage > 0 and maxvoltage - minvoltage < 1000:     \n",
    "        peaktopeak.append((maxvoltage - minvoltage)/1.6)\n",
    "    if maxvoltage - minvoltage > 1000:\n",
    "        print(events.index(event))\n",
    "plt.hist(peaktopeak,80,range=(0,100))\n",
    "plt.xlabel('Photoelectrons')\n",
    "plt.ylabel('count')\n",
    "#plt.axvline(3.1,color='red',label='First peak: 3.1')\n",
    "#plt.axvline(4.7,color='green',label='Second peak: 4.7')\n",
    "#plt.axvline(6.3,color='blue',label='Third peak: 6.3')\n",
    "#plt.legend(fontsize=17,loc='upper right')\n",
    "plt.show()\n",
    "print(\"Average:\")\n",
    "print(sum(peaktopeak) / len(peaktopeak))\n",
    "print(np.std(peaktopeak))\n",
    "print(len(peaktopeak))"
   ]
  },
  {
   "cell_type": "code",
   "execution_count": null,
   "id": "c9d0cd68",
   "metadata": {},
   "outputs": [],
   "source": []
  }
 ],
 "metadata": {
  "kernelspec": {
   "display_name": "Python 3 (ipykernel)",
   "language": "python",
   "name": "python3"
  },
  "language_info": {
   "codemirror_mode": {
    "name": "ipython",
    "version": 3
   },
   "file_extension": ".py",
   "mimetype": "text/x-python",
   "name": "python",
   "nbconvert_exporter": "python",
   "pygments_lexer": "ipython3",
   "version": "3.9.7"
  }
 },
 "nbformat": 4,
 "nbformat_minor": 5
}
